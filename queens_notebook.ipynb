{
 "cells": [
  {
   "cell_type": "code",
   "execution_count": 38,
   "metadata": {},
   "outputs": [],
   "source": [
    "import numpy as np\n",
    "import cv2\n",
    "import os\n",
    "os.environ[\"OMP_NUM_THREADS\"] = '1'\n",
    "from sklearn.cluster import KMeans\n",
    "import matplotlib.pyplot as plt\n",
    "from matplotlib.colors import ListedColormap\n",
    "import pandas as pd"
   ]
  },
  {
   "cell_type": "markdown",
   "metadata": {},
   "source": [
    "# Obtención de la matriz a través de una imagen"
   ]
  },
  {
   "cell_type": "code",
   "execution_count": 39,
   "metadata": {},
   "outputs": [],
   "source": [
    "import cv2\n",
    "import numpy as np\n",
    "\n",
    "def img2mat(image_path, n_colors):\n",
    "    # Load the image\n",
    "    image = cv2.imread(image_path, cv2.IMREAD_UNCHANGED)\n",
    "\n",
    "    # Remove the black points\n",
    "    # Convert image to RGBA if not already\n",
    "    if image.shape[2] == 3:\n",
    "        image = cv2.cvtColor(image, cv2.COLOR_BGR2BGRA)\n",
    "\n",
    "    # Create a mask where black pixels are detected\n",
    "    black_mask = (image[:, :, 0] <= 0) & (image[:, :, 1] <= 0) & (image[:, :, 2] <= 0)\n",
    "\n",
    "    # Set alpha channel (transparency) to 0 where the mask is true (black pixels)\n",
    "    image[black_mask, 3] = 0\n",
    "    step_i = image.shape[0]//n_colors\n",
    "    step_j = image.shape[1]//n_colors\n",
    "\n",
    "    # Select the middle point of the square\n",
    "    new_image = np.zeros((n_colors,n_colors,4))\n",
    "    for i in range(n_colors):\n",
    "        for j in range(n_colors):\n",
    "            new_image[i,j,:] = image[image.shape[0]//n_colors//2+step_i*i,image.shape[1]//n_colors//2+step_j*j,:]\n",
    "\n",
    "    flat_pixels = new_image.reshape(-1, 4)\n",
    "    kmeans = KMeans(n_clusters=n_colors, random_state=0)\n",
    "    kmeans.fit(flat_pixels)\n",
    "    pixel_labels = kmeans.labels_\n",
    "\n",
    "    # Reshape back to image dimensions\n",
    "    final_matrix = pixel_labels.reshape(n_colors, n_colors) +1\n",
    "    return final_matrix, ListedColormap(kmeans.cluster_centers_/255)\n"
   ]
  },
  {
   "cell_type": "code",
   "execution_count": 40,
   "metadata": {},
   "outputs": [
    {
     "data": {
      "text/plain": [
       "array([[ 5,  5,  5,  5,  1,  7,  7,  7,  7,  7],\n",
       "       [ 3, 10,  8,  8,  1,  4,  7,  6,  6,  6],\n",
       "       [ 3, 10,  8,  8,  1,  4,  7,  7,  4,  6],\n",
       "       [ 3, 10,  8,  8,  1,  4,  4,  4,  4,  6],\n",
       "       [ 3,  3,  8,  8,  1,  3,  6,  6,  4,  6],\n",
       "       [ 3,  3,  8,  8,  1,  3,  2,  6,  6,  6],\n",
       "       [ 3,  3,  8,  8,  3,  3,  2,  2,  6,  2],\n",
       "       [ 3,  3,  3,  3,  3,  2,  2,  2,  6,  2],\n",
       "       [ 9,  9,  9,  3,  3,  2,  2,  2,  6,  2],\n",
       "       [ 9,  9,  9,  3,  3,  2,  2,  2,  2,  2]])"
      ]
     },
     "execution_count": 40,
     "metadata": {},
     "output_type": "execute_result"
    }
   ],
   "source": [
    "image_path = \"Data/queens2.png\"   # <-- Change to your file\n",
    "n_colors = 10                     # Number of distinct colors to segment\n",
    "matrix, colors = img2mat(image_path, n_colors)\n",
    "matrix"
   ]
  },
  {
   "cell_type": "code",
   "execution_count": 42,
   "metadata": {},
   "outputs": [
    {
     "data": {
      "image/png": "[encoded data removed]",
      "text/plain": [
       "<Figure size 640x480 with 1 Axes>"
      ]
     },
     "metadata": {},
     "output_type": "display_data"
    }
   ],
   "source": [
    "plt.imshow(matrix, cmap=colors)\n",
    "plt.show()"
   ]
  },
  {
   "cell_type": "markdown",
   "metadata": {},
   "source": [
    "# Solver"
   ]
  },
  {
   "cell_type": "code",
   "execution_count": 14,
   "metadata": {},
   "outputs": [],
   "source": [
    "import pyomo.environ as pyo\n",
    "\n",
    "def queens_solver(matrix):\n",
    "    \n",
    "    n,m = matrix.shape\n",
    "\n",
    "    model = pyo.ConcreteModel()\n",
    "    model.name = \"Queens_Solver\"\n",
    "\n",
    "    # Sets \n",
    "    model.I = pyo.RangeSet(1, n)\n",
    "    model.J = pyo.RangeSet(1, m)\n",
    "    # model.colors = pyo.Set(initialize=sorted(set(np.unique(matrix))))\n",
    "    model.colors = pyo.RangeSet(1,n)\n",
    "\n",
    "    indices_matrix = {}\n",
    "    for c in range(1,n+1):\n",
    "        indices_matrix[c] = []\n",
    "        for i in range(n):\n",
    "            for j in range(m):\n",
    "                if matrix[i,j] == c:\n",
    "                    indices_matrix[c].append((i,j))\n",
    "    \n",
    "    # Variables (square of the quadrant)\n",
    "    model.x = pyo.Var(model.I, model.J, domain=pyo.Binary)\n",
    "\n",
    "    # Constraints\n",
    "    # Each row has to contain only 1 crown\n",
    "    def row_constraint(model, i):\n",
    "        return sum(model.x[i,j] for j in model.J) == 1\n",
    "    model.row_constraint = pyo.Constraint(model.I, rule = row_constraint)\n",
    "\n",
    "    # Each column has to contain only 1 crown\n",
    "    def column_constraint(model, j):\n",
    "        return sum(model.x[i,j] for i in model.I) == 1\n",
    "    model.column_constraint = pyo.Constraint(model.J, rule = column_constraint)\n",
    "\n",
    "    # Adjacent cell constraints (including diagonals)\n",
    "    def adjacent_constraint(model, i, j):\n",
    "        # Only top diagonals neighbors\n",
    "        # diagonals = [(i-1, j-1), (i-1, j+1), (i+1, j-1), (i+1, j+1)]\n",
    "        diagonals = [(i-1, j-1), (i-1, j+1)]\n",
    "        neighbors = [(ii, jj) for (ii, jj) in diagonals\n",
    "                    if 1 <= ii <= n and 1 <= jj <= m]\n",
    "        return model.x[i, j] + sum(model.x[ii, jj] for (ii, jj) in neighbors) <= 1\n",
    "    model.adjacent_constraint = pyo.Constraint(model.I, model.J, rule=adjacent_constraint)\n",
    "\n",
    "    # # Color assignment constraints\n",
    "    def color_constraint(model, c):\n",
    "        suma = sum(model.x[i+1, j+1] for i,j in indices_matrix[c]) \n",
    "        return suma <= 1\n",
    "    model.color_constraint = pyo.Constraint(model.colors, rule=color_constraint)\n",
    "\n",
    "    # Objective (Optional - if needed for optimal arrangement)\n",
    "    model.obj = pyo.Objective(expr=0, sense=pyo.maximize)\n",
    "\n",
    "    solver = pyo.SolverFactory('gurobi')\n",
    "    result = solver.solve(model, tee=False)  # tee=True prints solver log to screen\n",
    "    # print(\"Solver status:\", result.solver.status)\n",
    "    # print(\"Termination condition:\", result.solver.termination_condition)\n",
    "    solution = np.zeros_like(matrix)\n",
    "    for i in range(1, n+1):\n",
    "        for j in range(1, m+1):\n",
    "            if pyo.value(model.x[i, j]) == 1:\n",
    "                solution[i-1, j-1] = 1\n",
    "\n",
    "    return solution, model"
   ]
  },
  {
   "cell_type": "code",
   "execution_count": 43,
   "metadata": {},
   "outputs": [
    {
     "data": {
      "text/plain": [
       "array([ 1,  2,  3,  4,  5,  6,  7,  8,  9, 10])"
      ]
     },
     "execution_count": 43,
     "metadata": {},
     "output_type": "execute_result"
    }
   ],
   "source": [
    "np.unique(matrix)"
   ]
  },
  {
   "cell_type": "code",
   "execution_count": 44,
   "metadata": {},
   "outputs": [
    {
     "name": "stdout",
     "output_type": "stream",
     "text": [
      "[[0 0 0 1 0 0 0 0 0 0]\n",
      " [0 0 0 0 0 0 1 0 0 0]\n",
      " [0 1 0 0 0 0 0 0 0 0]\n",
      " [0 0 0 0 0 0 0 1 0 0]\n",
      " [0 0 0 0 1 0 0 0 0 0]\n",
      " [0 0 1 0 0 0 0 0 0 0]\n",
      " [0 0 0 0 0 1 0 0 0 0]\n",
      " [0 0 0 0 0 0 0 0 1 0]\n",
      " [1 0 0 0 0 0 0 0 0 0]\n",
      " [0 0 0 0 0 0 0 0 0 1]]\n"
     ]
    }
   ],
   "source": [
    "solution, model = queens_solver(matrix)\n",
    "print(solution)"
   ]
  },
  {
   "cell_type": "code",
   "execution_count": 47,
   "metadata": {},
   "outputs": [
    {
     "data": {
      "image/png": "[encoded data removed]",
      "text/plain": [
       "<Figure size 640x480 with 1 Axes>"
      ]
     },
     "metadata": {},
     "output_type": "display_data"
    }
   ],
   "source": [
    "plt.imshow(matrix, cmap=colors)\n",
    "y, x = np.where(solution == 1)\n",
    "# Add points for `solution == 1` positions\n",
    "plt.scatter(x, y, color='black', marker='+', s=50, label='Solution Points')\n",
    "plt.axis(\"off\")\n",
    "plt.title(\"Queens Solution\")\n",
    "plt.show()"
   ]
  },
  {
   "cell_type": "markdown",
   "metadata": {},
   "source": [
    "# Usando los scripts"
   ]
  },
  {
   "cell_type": "code",
   "execution_count": 3,
   "metadata": {},
   "outputs": [],
   "source": [
    "import numpy as np\n",
    "import matplotlib.pyplot as plt\n",
    "from image_matrix import img2mat\n",
    "from queens_solver import queens_solver"
   ]
  },
  {
   "cell_type": "code",
   "execution_count": 4,
   "metadata": {},
   "outputs": [
    {
     "data": {
      "image/png": "[encoded data removed]",
      "text/plain": [
       "<Figure size 640x480 with 1 Axes>"
      ]
     },
     "metadata": {},
     "output_type": "display_data"
    }
   ],
   "source": [
    "image_path = \"Data/queens2.png\"   \n",
    "n_colors = 10                     # Number of distinct colors to segment\n",
    "matrix, colors = img2mat(image_path, n_colors)\n",
    "solution, model = queens_solver(matrix)\n",
    "\n",
    "# Plot the solution\n",
    "plt.imshow(matrix, cmap=colors)\n",
    "y, x = np.where(solution == 1)\n",
    "plt.scatter(x, y, color='black', marker='+', s=50, label='Solution Points')\n",
    "plt.axis(\"off\")\n",
    "plt.title(\"Queens Solution\")\n",
    "plt.show()"
   ]
  }
 ],
 "metadata": {
  "kernelspec": {
   "display_name": "base",
   "language": "python",
   "name": "python3"
  },
  "language_info": {
   "codemirror_mode": {
    "name": "ipython",
    "version": 3
   },
   "file_extension": ".py",
   "mimetype": "text/x-python",
   "name": "python",
   "nbconvert_exporter": "python",
   "pygments_lexer": "ipython3",
   "version": "3.12.3"
  }
 },
 "nbformat": 4,
 "nbformat_minor": 2
}
